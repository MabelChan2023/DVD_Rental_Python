{
 "cells": [
  {
   "cell_type": "code",
   "execution_count": 13,
   "id": "971aad24-a219-453d-8f2c-cdd7f01ed09c",
   "metadata": {},
   "outputs": [],
   "source": [
    "My_dictionary={'name': 'Bob', 'age': 30}"
   ]
  },
  {
   "cell_type": "code",
   "execution_count": 19,
   "id": "a274e169-e4bc-4f17-aee5-6ccec2d64ee2",
   "metadata": {},
   "outputs": [
    {
     "name": "stdout",
     "output_type": "stream",
     "text": [
      "{'name': 'Bob', 'age': 30}\n"
     ]
    }
   ],
   "source": [
    "print(My_dictionary)"
   ]
  },
  {
   "cell_type": "code",
   "execution_count": 20,
   "id": "8ebf28c0-20aa-41a4-9502-de5d07b61516",
   "metadata": {},
   "outputs": [],
   "source": [
    "My_list = [0, 6, 7.3, 'Bob']"
   ]
  },
  {
   "cell_type": "code",
   "execution_count": 25,
   "id": "d7b24664-0edb-40d8-b06e-8355970dacb0",
   "metadata": {},
   "outputs": [
    {
     "name": "stdout",
     "output_type": "stream",
     "text": [
      "0\n",
      "6\n"
     ]
    }
   ],
   "source": [
    "for i in range(2):\n",
    "    print(My_list[i])"
   ]
  },
  {
   "cell_type": "code",
   "execution_count": 26,
   "id": "aebd5448-8a95-4df9-9009-21435d42c147",
   "metadata": {},
   "outputs": [],
   "source": [
    "My_set = {1 ,2 ,3, 'abc',6.3}"
   ]
  },
  {
   "cell_type": "code",
   "execution_count": 29,
   "id": "e4bdf9f7-fd3b-4971-83c9-47018e9eab96",
   "metadata": {},
   "outputs": [],
   "source": [
    "My_set.add(0)"
   ]
  },
  {
   "cell_type": "code",
   "execution_count": 30,
   "id": "6dfb5f44-5ad9-473d-98c8-1d0a908b3804",
   "metadata": {
    "scrolled": true
   },
   "outputs": [
    {
     "name": "stdout",
     "output_type": "stream",
     "text": [
      "{0, 1, 2, 3, 6.3, 'abc'}\n"
     ]
    }
   ],
   "source": [
    "print(My_set)"
   ]
  },
  {
   "cell_type": "code",
   "execution_count": 31,
   "id": "b0316802-8c44-4b05-a6e0-dea9dcfcefa0",
   "metadata": {},
   "outputs": [],
   "source": [
    "New_set ={1,2}"
   ]
  },
  {
   "cell_type": "code",
   "execution_count": 32,
   "id": "498f5c68-80d0-4db7-a4c0-4fc35cc2cfa1",
   "metadata": {},
   "outputs": [
    {
     "data": {
      "text/plain": [
       "{0, 1, 2, 3, 6.3, 'abc'}"
      ]
     },
     "execution_count": 32,
     "metadata": {},
     "output_type": "execute_result"
    }
   ],
   "source": [
    "My_set.union(New_set)"
   ]
  },
  {
   "cell_type": "code",
   "execution_count": 33,
   "id": "07a3f710-d4be-4580-b1db-bc023d61752b",
   "metadata": {},
   "outputs": [],
   "source": [
    "y = 'absdfhgjdithg'"
   ]
  },
  {
   "cell_type": "code",
   "execution_count": 34,
   "id": "95a980bf-2271-47df-bed6-bfb093575c80",
   "metadata": {},
   "outputs": [],
   "source": [
    "some_string = y[3:8]"
   ]
  },
  {
   "cell_type": "code",
   "execution_count": 35,
   "id": "9c690d5c-41c0-4853-944b-6ce7b1dfdc6c",
   "metadata": {},
   "outputs": [
    {
     "name": "stdout",
     "output_type": "stream",
     "text": [
      "dfhgj\n",
      "fhgj\n",
      "hgj\n",
      "gj\n"
     ]
    }
   ],
   "source": [
    "counter = 0\n",
    "\n",
    "while counter < 4:\n",
    "    print(some_string[counter:5])\n",
    "    counter +=1"
   ]
  },
  {
   "cell_type": "code",
   "execution_count": 37,
   "id": "3becbff9-3eae-466e-acca-b2d1acdbe123",
   "metadata": {},
   "outputs": [
    {
     "name": "stdout",
     "output_type": "stream",
     "text": [
      "small\n"
     ]
    }
   ],
   "source": [
    "if len(some_string) < 20:\n",
    "    print('small')\n",
    "else:\n",
    "    print('large')"
   ]
  },
  {
   "cell_type": "code",
   "execution_count": null,
   "id": "815ad156-fbd6-4d9f-af43-db6b88f3ed27",
   "metadata": {},
   "outputs": [],
   "source": []
  }
 ],
 "metadata": {
  "kernelspec": {
   "display_name": "",
   "name": ""
  },
  "language_info": {
   "name": ""
  }
 },
 "nbformat": 4,
 "nbformat_minor": 5
}
